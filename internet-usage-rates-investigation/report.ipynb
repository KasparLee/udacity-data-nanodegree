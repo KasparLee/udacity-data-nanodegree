{
 "cells": [
  {
   "cell_type": "markdown",
   "metadata": {},
   "source": [
    "# Investigating How Internet Usage Rates Vary With Socioeconomic Factors\n",
    "###### By Kaspar Lee\n",
    "\n",
    "## Table of Contents\n",
    "<ul>\n",
    "<li><a href=\"#intro\">Introduction</a></li>\n",
    "<li><a href=\"#wrangling\">Data Wrangling</a></li>\n",
    "<li><a href=\"#eda\">Exploratory Data Analysis</a></li>\n",
    "<li><a href=\"#conclusions\">Conclusions</a></li>\n",
    "</ul>"
   ]
  },
  {
   "cell_type": "markdown",
   "metadata": {},
   "source": [
    "<a id='intro'></a>\n",
    "## Introduction\n",
    "\n",
    "In this project, I will be analysing how the proportion of a population with usage of the internet varies based on a nation's level of corruption, democracy and freedom of expression.\n",
    "\n",
    "### Datasets and Indicators\n",
    "\n",
    "I compiled my datasets using [Gapminder Tools](https://www.gapminder.org/data/), which contains data, broken down by country, on a wide range of indicators.\n",
    "As the indicators I have chosen are not quantitative, I have opted to use the following indices in order to quantify the data:\n",
    "\n",
    "- **Corruption Perception Index (CPI)** - This index, calculated by [Transparency International](https://www.transparency.org/research/cpi), is a measure of the level of corruption in a country. It is based on a scale of 0 to 100, with zero indicating a \"Highly Corrupt\" nation, and 100 indication a nation is \"Very Clean\".\n",
    "- **Democracy Index (EIU)** - From the [Economist Inteligence Nuit](http://gapm.io/ddemocrix_eiu), this is a summary measure to express the quality of a country's democratic nature, calculated using 60 indicators. Graded from 0 to 100, with 0 indicating a very low level of democracy, and 100 indicating a very high democratic nature.\n",
    "- **Freedom of Expression Index (IDEA)** - Available [here](http://gapm.io/ddemocrix_idea), this aggregates a set of indicators measuring media censorship and freedom of discussion and expression. Measued on a scale of 0 to 100, with 0 suggesting no freedom of expression at all, and 100 suggesting full access to freedom of expression.\n",
    "\n",
    "The internet users dataset from [The World Bank Group](https://data.worldbank.org/indicator/IT.NET.USER.ZS) contains the number of internet users as a percentage of the total population. This will allow me to compare internet users relative to the size of population of a country.\n",
    "\n",
    "All of these datasets include historical data, however I am not interested in trends in any of these indicators so can discard all but the most recent year (that all indicators have data for). The corruption index only has data until 2017, so that will most likely be the year that I use as the most recent year.\n",
    "\n",
    "### Questions\n",
    "\n",
    "I shall be analysing the distribution of countries' population with usage of the internet, and the relationship between the internet usage rates and the above indicators.\n",
    "My questions are:\n",
    "\n",
    "- **How are internet usage rates distributed, and how do they range between different countries?**\n",
    "- **Is there a correlation between the level of corruption, democracy or freedom of a country, and the number of individuals using the internet?**"
   ]
  },
  {
   "cell_type": "markdown",
   "metadata": {},
   "source": [
    "<a id='wrangling'></a>\n",
    "## Data Wrangling"
   ]
  },
  {
   "cell_type": "markdown",
   "metadata": {},
   "source": [
    "### Data Checking"
   ]
  },
  {
   "cell_type": "code",
   "execution_count": 17,
   "metadata": {},
   "outputs": [],
   "source": [
    "from functools import reduce\n",
    "from IPython.display import display\n",
    "import numpy as np\n",
    "import pandas as pd\n",
    "import matplotlib.pyplot as plt\n",
    "import seaborn as sns\n",
    "sns.set_style('darkgrid')\n",
    "\n",
    "%matplotlib inline"
   ]
  },
  {
   "cell_type": "code",
   "execution_count": 35,
   "metadata": {},
   "outputs": [],
   "source": [
    "# Load data\n",
    "internet_df   = pd.read_csv('internet_usage_rate.csv')\n",
    "corruption_df = pd.read_csv('corruption_index.csv')\n",
    "democracy_df  = pd.read_csv('democracy_index.csv')\n",
    "freedom_df    = pd.read_csv('freedom_index.csv')"
   ]
  },
  {
   "cell_type": "markdown",
   "metadata": {},
   "source": [
    "#### Internet Usage Data"
   ]
  },
  {
   "cell_type": "code",
   "execution_count": 36,
   "metadata": {},
   "outputs": [
    {
     "data": {
      "text/html": [
       "<div>\n",
       "<style scoped>\n",
       "    .dataframe tbody tr th:only-of-type {\n",
       "        vertical-align: middle;\n",
       "    }\n",
       "\n",
       "    .dataframe tbody tr th {\n",
       "        vertical-align: top;\n",
       "    }\n",
       "\n",
       "    .dataframe thead th {\n",
       "        text-align: right;\n",
       "    }\n",
       "</style>\n",
       "<table border=\"1\" class=\"dataframe\">\n",
       "  <thead>\n",
       "    <tr style=\"text-align: right;\">\n",
       "      <th></th>\n",
       "      <th>1960</th>\n",
       "      <th>1961</th>\n",
       "      <th>1962</th>\n",
       "      <th>1963</th>\n",
       "      <th>1964</th>\n",
       "      <th>1965</th>\n",
       "      <th>1966</th>\n",
       "      <th>1967</th>\n",
       "      <th>1968</th>\n",
       "      <th>1969</th>\n",
       "      <th>...</th>\n",
       "      <th>2009</th>\n",
       "      <th>2010</th>\n",
       "      <th>2011</th>\n",
       "      <th>2012</th>\n",
       "      <th>2013</th>\n",
       "      <th>2014</th>\n",
       "      <th>2015</th>\n",
       "      <th>2016</th>\n",
       "      <th>2017</th>\n",
       "      <th>2018</th>\n",
       "    </tr>\n",
       "  </thead>\n",
       "  <tbody>\n",
       "    <tr>\n",
       "      <th>count</th>\n",
       "      <td>7.0</td>\n",
       "      <td>0.0</td>\n",
       "      <td>0.0</td>\n",
       "      <td>0.0</td>\n",
       "      <td>0.0</td>\n",
       "      <td>7.0</td>\n",
       "      <td>0.0</td>\n",
       "      <td>0.0</td>\n",
       "      <td>0.0</td>\n",
       "      <td>0.0</td>\n",
       "      <td>...</td>\n",
       "      <td>189.000000</td>\n",
       "      <td>189.000000</td>\n",
       "      <td>192.000000</td>\n",
       "      <td>189.000000</td>\n",
       "      <td>190.000000</td>\n",
       "      <td>190.000000</td>\n",
       "      <td>190.000000</td>\n",
       "      <td>190.000000</td>\n",
       "      <td>192.000000</td>\n",
       "      <td>79.000000</td>\n",
       "    </tr>\n",
       "    <tr>\n",
       "      <th>mean</th>\n",
       "      <td>0.0</td>\n",
       "      <td>NaN</td>\n",
       "      <td>NaN</td>\n",
       "      <td>NaN</td>\n",
       "      <td>NaN</td>\n",
       "      <td>0.0</td>\n",
       "      <td>NaN</td>\n",
       "      <td>NaN</td>\n",
       "      <td>NaN</td>\n",
       "      <td>NaN</td>\n",
       "      <td>...</td>\n",
       "      <td>29.371111</td>\n",
       "      <td>32.515450</td>\n",
       "      <td>35.275990</td>\n",
       "      <td>38.133228</td>\n",
       "      <td>40.890579</td>\n",
       "      <td>43.853263</td>\n",
       "      <td>46.730158</td>\n",
       "      <td>49.257316</td>\n",
       "      <td>53.269010</td>\n",
       "      <td>73.089241</td>\n",
       "    </tr>\n",
       "    <tr>\n",
       "      <th>std</th>\n",
       "      <td>0.0</td>\n",
       "      <td>NaN</td>\n",
       "      <td>NaN</td>\n",
       "      <td>NaN</td>\n",
       "      <td>NaN</td>\n",
       "      <td>0.0</td>\n",
       "      <td>NaN</td>\n",
       "      <td>NaN</td>\n",
       "      <td>NaN</td>\n",
       "      <td>NaN</td>\n",
       "      <td>...</td>\n",
       "      <td>26.809729</td>\n",
       "      <td>27.300222</td>\n",
       "      <td>27.731046</td>\n",
       "      <td>28.469292</td>\n",
       "      <td>28.898815</td>\n",
       "      <td>28.698293</td>\n",
       "      <td>28.329602</td>\n",
       "      <td>28.756120</td>\n",
       "      <td>28.017026</td>\n",
       "      <td>19.731419</td>\n",
       "    </tr>\n",
       "    <tr>\n",
       "      <th>min</th>\n",
       "      <td>0.0</td>\n",
       "      <td>NaN</td>\n",
       "      <td>NaN</td>\n",
       "      <td>NaN</td>\n",
       "      <td>NaN</td>\n",
       "      <td>0.0</td>\n",
       "      <td>NaN</td>\n",
       "      <td>NaN</td>\n",
       "      <td>NaN</td>\n",
       "      <td>NaN</td>\n",
       "      <td>...</td>\n",
       "      <td>0.000000</td>\n",
       "      <td>0.000000</td>\n",
       "      <td>0.000000</td>\n",
       "      <td>0.000000</td>\n",
       "      <td>0.900000</td>\n",
       "      <td>0.990000</td>\n",
       "      <td>1.080000</td>\n",
       "      <td>1.180000</td>\n",
       "      <td>1.310000</td>\n",
       "      <td>5.250000</td>\n",
       "    </tr>\n",
       "    <tr>\n",
       "      <th>25%</th>\n",
       "      <td>0.0</td>\n",
       "      <td>NaN</td>\n",
       "      <td>NaN</td>\n",
       "      <td>NaN</td>\n",
       "      <td>NaN</td>\n",
       "      <td>0.0</td>\n",
       "      <td>NaN</td>\n",
       "      <td>NaN</td>\n",
       "      <td>NaN</td>\n",
       "      <td>NaN</td>\n",
       "      <td>...</td>\n",
       "      <td>6.150000</td>\n",
       "      <td>8.000000</td>\n",
       "      <td>9.650000</td>\n",
       "      <td>11.100000</td>\n",
       "      <td>14.000000</td>\n",
       "      <td>17.500000</td>\n",
       "      <td>20.775000</td>\n",
       "      <td>22.500000</td>\n",
       "      <td>27.800000</td>\n",
       "      <td>64.600000</td>\n",
       "    </tr>\n",
       "    <tr>\n",
       "      <th>50%</th>\n",
       "      <td>0.0</td>\n",
       "      <td>NaN</td>\n",
       "      <td>NaN</td>\n",
       "      <td>NaN</td>\n",
       "      <td>NaN</td>\n",
       "      <td>0.0</td>\n",
       "      <td>NaN</td>\n",
       "      <td>NaN</td>\n",
       "      <td>NaN</td>\n",
       "      <td>NaN</td>\n",
       "      <td>...</td>\n",
       "      <td>22.500000</td>\n",
       "      <td>27.200000</td>\n",
       "      <td>32.000000</td>\n",
       "      <td>35.300000</td>\n",
       "      <td>38.000000</td>\n",
       "      <td>42.000000</td>\n",
       "      <td>45.550000</td>\n",
       "      <td>51.250000</td>\n",
       "      <td>57.250000</td>\n",
       "      <td>75.300000</td>\n",
       "    </tr>\n",
       "    <tr>\n",
       "      <th>75%</th>\n",
       "      <td>0.0</td>\n",
       "      <td>NaN</td>\n",
       "      <td>NaN</td>\n",
       "      <td>NaN</td>\n",
       "      <td>NaN</td>\n",
       "      <td>0.0</td>\n",
       "      <td>NaN</td>\n",
       "      <td>NaN</td>\n",
       "      <td>NaN</td>\n",
       "      <td>NaN</td>\n",
       "      <td>...</td>\n",
       "      <td>48.800000</td>\n",
       "      <td>52.000000</td>\n",
       "      <td>55.225000</td>\n",
       "      <td>60.700000</td>\n",
       "      <td>64.575000</td>\n",
       "      <td>68.075000</td>\n",
       "      <td>71.025000</td>\n",
       "      <td>74.825000</td>\n",
       "      <td>77.375000</td>\n",
       "      <td>86.800000</td>\n",
       "    </tr>\n",
       "    <tr>\n",
       "      <th>max</th>\n",
       "      <td>0.0</td>\n",
       "      <td>NaN</td>\n",
       "      <td>NaN</td>\n",
       "      <td>NaN</td>\n",
       "      <td>NaN</td>\n",
       "      <td>0.0</td>\n",
       "      <td>NaN</td>\n",
       "      <td>NaN</td>\n",
       "      <td>NaN</td>\n",
       "      <td>NaN</td>\n",
       "      <td>...</td>\n",
       "      <td>93.000000</td>\n",
       "      <td>93.400000</td>\n",
       "      <td>94.800000</td>\n",
       "      <td>96.200000</td>\n",
       "      <td>96.500000</td>\n",
       "      <td>98.200000</td>\n",
       "      <td>98.200000</td>\n",
       "      <td>98.200000</td>\n",
       "      <td>100.000000</td>\n",
       "      <td>99.700000</td>\n",
       "    </tr>\n",
       "  </tbody>\n",
       "</table>\n",
       "<p>8 rows × 59 columns</p>\n",
       "</div>"
      ],
      "text/plain": [
       "       1960  1961  1962  1963  1964  1965  1966  1967  1968  1969  ...  \\\n",
       "count   7.0   0.0   0.0   0.0   0.0   7.0   0.0   0.0   0.0   0.0  ...   \n",
       "mean    0.0   NaN   NaN   NaN   NaN   0.0   NaN   NaN   NaN   NaN  ...   \n",
       "std     0.0   NaN   NaN   NaN   NaN   0.0   NaN   NaN   NaN   NaN  ...   \n",
       "min     0.0   NaN   NaN   NaN   NaN   0.0   NaN   NaN   NaN   NaN  ...   \n",
       "25%     0.0   NaN   NaN   NaN   NaN   0.0   NaN   NaN   NaN   NaN  ...   \n",
       "50%     0.0   NaN   NaN   NaN   NaN   0.0   NaN   NaN   NaN   NaN  ...   \n",
       "75%     0.0   NaN   NaN   NaN   NaN   0.0   NaN   NaN   NaN   NaN  ...   \n",
       "max     0.0   NaN   NaN   NaN   NaN   0.0   NaN   NaN   NaN   NaN  ...   \n",
       "\n",
       "             2009        2010        2011        2012        2013        2014  \\\n",
       "count  189.000000  189.000000  192.000000  189.000000  190.000000  190.000000   \n",
       "mean    29.371111   32.515450   35.275990   38.133228   40.890579   43.853263   \n",
       "std     26.809729   27.300222   27.731046   28.469292   28.898815   28.698293   \n",
       "min      0.000000    0.000000    0.000000    0.000000    0.900000    0.990000   \n",
       "25%      6.150000    8.000000    9.650000   11.100000   14.000000   17.500000   \n",
       "50%     22.500000   27.200000   32.000000   35.300000   38.000000   42.000000   \n",
       "75%     48.800000   52.000000   55.225000   60.700000   64.575000   68.075000   \n",
       "max     93.000000   93.400000   94.800000   96.200000   96.500000   98.200000   \n",
       "\n",
       "             2015        2016        2017       2018  \n",
       "count  190.000000  190.000000  192.000000  79.000000  \n",
       "mean    46.730158   49.257316   53.269010  73.089241  \n",
       "std     28.329602   28.756120   28.017026  19.731419  \n",
       "min      1.080000    1.180000    1.310000   5.250000  \n",
       "25%     20.775000   22.500000   27.800000  64.600000  \n",
       "50%     45.550000   51.250000   57.250000  75.300000  \n",
       "75%     71.025000   74.825000   77.375000  86.800000  \n",
       "max     98.200000   98.200000  100.000000  99.700000  \n",
       "\n",
       "[8 rows x 59 columns]"
      ]
     },
     "metadata": {},
     "output_type": "display_data"
    },
    {
     "data": {
      "text/html": [
       "<div>\n",
       "<style scoped>\n",
       "    .dataframe tbody tr th:only-of-type {\n",
       "        vertical-align: middle;\n",
       "    }\n",
       "\n",
       "    .dataframe tbody tr th {\n",
       "        vertical-align: top;\n",
       "    }\n",
       "\n",
       "    .dataframe thead th {\n",
       "        text-align: right;\n",
       "    }\n",
       "</style>\n",
       "<table border=\"1\" class=\"dataframe\">\n",
       "  <thead>\n",
       "    <tr style=\"text-align: right;\">\n",
       "      <th></th>\n",
       "      <th>country</th>\n",
       "      <th>1960</th>\n",
       "      <th>1961</th>\n",
       "      <th>1962</th>\n",
       "      <th>1963</th>\n",
       "      <th>1964</th>\n",
       "      <th>1965</th>\n",
       "      <th>1966</th>\n",
       "      <th>1967</th>\n",
       "      <th>1968</th>\n",
       "      <th>...</th>\n",
       "      <th>2009</th>\n",
       "      <th>2010</th>\n",
       "      <th>2011</th>\n",
       "      <th>2012</th>\n",
       "      <th>2013</th>\n",
       "      <th>2014</th>\n",
       "      <th>2015</th>\n",
       "      <th>2016</th>\n",
       "      <th>2017</th>\n",
       "      <th>2018</th>\n",
       "    </tr>\n",
       "  </thead>\n",
       "  <tbody>\n",
       "    <tr>\n",
       "      <th>0</th>\n",
       "      <td>Afghanistan</td>\n",
       "      <td>NaN</td>\n",
       "      <td>NaN</td>\n",
       "      <td>NaN</td>\n",
       "      <td>NaN</td>\n",
       "      <td>NaN</td>\n",
       "      <td>NaN</td>\n",
       "      <td>NaN</td>\n",
       "      <td>NaN</td>\n",
       "      <td>NaN</td>\n",
       "      <td>...</td>\n",
       "      <td>3.55</td>\n",
       "      <td>4.0</td>\n",
       "      <td>5.0</td>\n",
       "      <td>5.45</td>\n",
       "      <td>5.9</td>\n",
       "      <td>7.0</td>\n",
       "      <td>8.26</td>\n",
       "      <td>11.2</td>\n",
       "      <td>13.5</td>\n",
       "      <td>NaN</td>\n",
       "    </tr>\n",
       "    <tr>\n",
       "      <th>1</th>\n",
       "      <td>Albania</td>\n",
       "      <td>NaN</td>\n",
       "      <td>NaN</td>\n",
       "      <td>NaN</td>\n",
       "      <td>NaN</td>\n",
       "      <td>NaN</td>\n",
       "      <td>NaN</td>\n",
       "      <td>NaN</td>\n",
       "      <td>NaN</td>\n",
       "      <td>NaN</td>\n",
       "      <td>...</td>\n",
       "      <td>41.20</td>\n",
       "      <td>45.0</td>\n",
       "      <td>49.0</td>\n",
       "      <td>54.70</td>\n",
       "      <td>57.2</td>\n",
       "      <td>60.1</td>\n",
       "      <td>63.30</td>\n",
       "      <td>66.4</td>\n",
       "      <td>71.8</td>\n",
       "      <td>NaN</td>\n",
       "    </tr>\n",
       "    <tr>\n",
       "      <th>2</th>\n",
       "      <td>Algeria</td>\n",
       "      <td>NaN</td>\n",
       "      <td>NaN</td>\n",
       "      <td>NaN</td>\n",
       "      <td>NaN</td>\n",
       "      <td>NaN</td>\n",
       "      <td>NaN</td>\n",
       "      <td>NaN</td>\n",
       "      <td>NaN</td>\n",
       "      <td>NaN</td>\n",
       "      <td>...</td>\n",
       "      <td>11.20</td>\n",
       "      <td>12.5</td>\n",
       "      <td>14.9</td>\n",
       "      <td>18.20</td>\n",
       "      <td>22.5</td>\n",
       "      <td>29.5</td>\n",
       "      <td>38.20</td>\n",
       "      <td>42.9</td>\n",
       "      <td>47.7</td>\n",
       "      <td>49.0</td>\n",
       "    </tr>\n",
       "    <tr>\n",
       "      <th>3</th>\n",
       "      <td>Andorra</td>\n",
       "      <td>NaN</td>\n",
       "      <td>NaN</td>\n",
       "      <td>NaN</td>\n",
       "      <td>NaN</td>\n",
       "      <td>NaN</td>\n",
       "      <td>NaN</td>\n",
       "      <td>NaN</td>\n",
       "      <td>NaN</td>\n",
       "      <td>NaN</td>\n",
       "      <td>...</td>\n",
       "      <td>78.50</td>\n",
       "      <td>81.0</td>\n",
       "      <td>81.0</td>\n",
       "      <td>86.40</td>\n",
       "      <td>94.0</td>\n",
       "      <td>95.9</td>\n",
       "      <td>96.90</td>\n",
       "      <td>97.9</td>\n",
       "      <td>91.6</td>\n",
       "      <td>NaN</td>\n",
       "    </tr>\n",
       "    <tr>\n",
       "      <th>4</th>\n",
       "      <td>Angola</td>\n",
       "      <td>NaN</td>\n",
       "      <td>NaN</td>\n",
       "      <td>NaN</td>\n",
       "      <td>NaN</td>\n",
       "      <td>NaN</td>\n",
       "      <td>NaN</td>\n",
       "      <td>NaN</td>\n",
       "      <td>NaN</td>\n",
       "      <td>NaN</td>\n",
       "      <td>...</td>\n",
       "      <td>2.30</td>\n",
       "      <td>2.8</td>\n",
       "      <td>3.1</td>\n",
       "      <td>6.50</td>\n",
       "      <td>8.9</td>\n",
       "      <td>21.4</td>\n",
       "      <td>12.40</td>\n",
       "      <td>13.0</td>\n",
       "      <td>14.3</td>\n",
       "      <td>NaN</td>\n",
       "    </tr>\n",
       "  </tbody>\n",
       "</table>\n",
       "<p>5 rows × 60 columns</p>\n",
       "</div>"
      ],
      "text/plain": [
       "       country  1960  1961  1962  1963  1964  1965  1966  1967  1968  ...  \\\n",
       "0  Afghanistan   NaN   NaN   NaN   NaN   NaN   NaN   NaN   NaN   NaN  ...   \n",
       "1      Albania   NaN   NaN   NaN   NaN   NaN   NaN   NaN   NaN   NaN  ...   \n",
       "2      Algeria   NaN   NaN   NaN   NaN   NaN   NaN   NaN   NaN   NaN  ...   \n",
       "3      Andorra   NaN   NaN   NaN   NaN   NaN   NaN   NaN   NaN   NaN  ...   \n",
       "4       Angola   NaN   NaN   NaN   NaN   NaN   NaN   NaN   NaN   NaN  ...   \n",
       "\n",
       "    2009  2010  2011   2012  2013  2014   2015  2016  2017  2018  \n",
       "0   3.55   4.0   5.0   5.45   5.9   7.0   8.26  11.2  13.5   NaN  \n",
       "1  41.20  45.0  49.0  54.70  57.2  60.1  63.30  66.4  71.8   NaN  \n",
       "2  11.20  12.5  14.9  18.20  22.5  29.5  38.20  42.9  47.7  49.0  \n",
       "3  78.50  81.0  81.0  86.40  94.0  95.9  96.90  97.9  91.6   NaN  \n",
       "4   2.30   2.8   3.1   6.50   8.9  21.4  12.40  13.0  14.3   NaN  \n",
       "\n",
       "[5 rows x 60 columns]"
      ]
     },
     "metadata": {},
     "output_type": "display_data"
    }
   ],
   "source": [
    "display(internet_df.describe())\n",
    "display(internet_df.head())"
   ]
  },
  {
   "cell_type": "markdown",
   "metadata": {},
   "source": [
    "The newest data is from 2018, however it seems to only have 79 countries entered, rather than the ~190 countries from the years before. Additionally, the corruption dataset only contains data until 2017. Due to this, I will take 2017 as the most recent year of data that I can analyse, which has data saved for 192 countries."
   ]
  },
  {
   "cell_type": "code",
   "execution_count": 53,
   "metadata": {},
   "outputs": [
    {
     "name": "stdout",
     "output_type": "stream",
     "text": [
      "Rows with missing data: 2\n"
     ]
    }
   ],
   "source": [
    "print('Rows with missing data:', internet_df['2017'].isna().sum())"
   ]
  },
  {
   "cell_type": "markdown",
   "metadata": {},
   "source": [
    "Additionally, we can see that out of these 192 rows, only 2 of them have missing data. This means we are left with the internet usage data for a total of 190 countries."
   ]
  },
  {
   "cell_type": "markdown",
   "metadata": {},
   "source": [
    "#### Corruption Data"
   ]
  },
  {
   "cell_type": "code",
   "execution_count": 52,
   "metadata": {},
   "outputs": [
    {
     "data": {
      "text/plain": [
       "count    177.000000\n",
       "mean      42.790960\n",
       "std       18.978347\n",
       "min        9.000000\n",
       "25%       29.000000\n",
       "50%       38.000000\n",
       "75%       56.000000\n",
       "max       89.000000\n",
       "Name: 2017, dtype: float64"
      ]
     },
     "metadata": {},
     "output_type": "display_data"
    },
    {
     "data": {
      "text/html": [
       "<div>\n",
       "<style scoped>\n",
       "    .dataframe tbody tr th:only-of-type {\n",
       "        vertical-align: middle;\n",
       "    }\n",
       "\n",
       "    .dataframe tbody tr th {\n",
       "        vertical-align: top;\n",
       "    }\n",
       "\n",
       "    .dataframe thead th {\n",
       "        text-align: right;\n",
       "    }\n",
       "</style>\n",
       "<table border=\"1\" class=\"dataframe\">\n",
       "  <thead>\n",
       "    <tr style=\"text-align: right;\">\n",
       "      <th></th>\n",
       "      <th>country</th>\n",
       "      <th>2012</th>\n",
       "      <th>2013</th>\n",
       "      <th>2014</th>\n",
       "      <th>2015</th>\n",
       "      <th>2016</th>\n",
       "      <th>2017</th>\n",
       "    </tr>\n",
       "  </thead>\n",
       "  <tbody>\n",
       "    <tr>\n",
       "      <th>0</th>\n",
       "      <td>Afghanistan</td>\n",
       "      <td>8.0</td>\n",
       "      <td>8.0</td>\n",
       "      <td>12.0</td>\n",
       "      <td>11.0</td>\n",
       "      <td>15.0</td>\n",
       "      <td>15</td>\n",
       "    </tr>\n",
       "    <tr>\n",
       "      <th>1</th>\n",
       "      <td>Albania</td>\n",
       "      <td>33.0</td>\n",
       "      <td>31.0</td>\n",
       "      <td>33.0</td>\n",
       "      <td>36.0</td>\n",
       "      <td>39.0</td>\n",
       "      <td>38</td>\n",
       "    </tr>\n",
       "    <tr>\n",
       "      <th>2</th>\n",
       "      <td>Algeria</td>\n",
       "      <td>34.0</td>\n",
       "      <td>36.0</td>\n",
       "      <td>36.0</td>\n",
       "      <td>36.0</td>\n",
       "      <td>34.0</td>\n",
       "      <td>33</td>\n",
       "    </tr>\n",
       "    <tr>\n",
       "      <th>3</th>\n",
       "      <td>Angola</td>\n",
       "      <td>22.0</td>\n",
       "      <td>23.0</td>\n",
       "      <td>19.0</td>\n",
       "      <td>15.0</td>\n",
       "      <td>18.0</td>\n",
       "      <td>19</td>\n",
       "    </tr>\n",
       "    <tr>\n",
       "      <th>4</th>\n",
       "      <td>Argentina</td>\n",
       "      <td>35.0</td>\n",
       "      <td>34.0</td>\n",
       "      <td>34.0</td>\n",
       "      <td>32.0</td>\n",
       "      <td>36.0</td>\n",
       "      <td>39</td>\n",
       "    </tr>\n",
       "  </tbody>\n",
       "</table>\n",
       "</div>"
      ],
      "text/plain": [
       "       country  2012  2013  2014  2015  2016  2017\n",
       "0  Afghanistan   8.0   8.0  12.0  11.0  15.0    15\n",
       "1      Albania  33.0  31.0  33.0  36.0  39.0    38\n",
       "2      Algeria  34.0  36.0  36.0  36.0  34.0    33\n",
       "3       Angola  22.0  23.0  19.0  15.0  18.0    19\n",
       "4    Argentina  35.0  34.0  34.0  32.0  36.0    39"
      ]
     },
     "metadata": {},
     "output_type": "display_data"
    },
    {
     "name": "stdout",
     "output_type": "stream",
     "text": [
      "Rows with missing data: 0\n"
     ]
    }
   ],
   "source": [
    "display(corruption_df['2017'].describe())\n",
    "display(corruption_df.head())\n",
    "print('Rows with missing data:', corruption_df['2017'].isna().sum())"
   ]
  },
  {
   "cell_type": "markdown",
   "metadata": {},
   "source": [
    "As we can see, there are 177 unique countries with data existing in the 2017 column. Out of all 177 rows, none of them have missing data to deal with."
   ]
  },
  {
   "cell_type": "markdown",
   "metadata": {},
   "source": [
    "#### Democracy Data"
   ]
  },
  {
   "cell_type": "code",
   "execution_count": 50,
   "metadata": {},
   "outputs": [
    {
     "data": {
      "text/plain": [
       "count    164.000000\n",
       "mean      54.538415\n",
       "std       22.001730\n",
       "min       10.800000\n",
       "25%       36.100000\n",
       "50%       56.600000\n",
       "75%       72.000000\n",
       "max       98.700000\n",
       "Name: 2017, dtype: float64"
      ]
     },
     "metadata": {},
     "output_type": "display_data"
    },
    {
     "data": {
      "text/html": [
       "<div>\n",
       "<style scoped>\n",
       "    .dataframe tbody tr th:only-of-type {\n",
       "        vertical-align: middle;\n",
       "    }\n",
       "\n",
       "    .dataframe tbody tr th {\n",
       "        vertical-align: top;\n",
       "    }\n",
       "\n",
       "    .dataframe thead th {\n",
       "        text-align: right;\n",
       "    }\n",
       "</style>\n",
       "<table border=\"1\" class=\"dataframe\">\n",
       "  <thead>\n",
       "    <tr style=\"text-align: right;\">\n",
       "      <th></th>\n",
       "      <th>country</th>\n",
       "      <th>2006</th>\n",
       "      <th>2007</th>\n",
       "      <th>2008</th>\n",
       "      <th>2009</th>\n",
       "      <th>2010</th>\n",
       "      <th>2011</th>\n",
       "      <th>2012</th>\n",
       "      <th>2013</th>\n",
       "      <th>2014</th>\n",
       "      <th>2015</th>\n",
       "      <th>2016</th>\n",
       "      <th>2017</th>\n",
       "      <th>2018</th>\n",
       "    </tr>\n",
       "  </thead>\n",
       "  <tbody>\n",
       "    <tr>\n",
       "      <th>0</th>\n",
       "      <td>Afghanistan</td>\n",
       "      <td>30.6</td>\n",
       "      <td>30.4</td>\n",
       "      <td>30.2</td>\n",
       "      <td>27.5</td>\n",
       "      <td>24.8</td>\n",
       "      <td>24.8</td>\n",
       "      <td>24.8</td>\n",
       "      <td>24.8</td>\n",
       "      <td>27.7</td>\n",
       "      <td>27.7</td>\n",
       "      <td>25.5</td>\n",
       "      <td>25.5</td>\n",
       "      <td>29.7</td>\n",
       "    </tr>\n",
       "    <tr>\n",
       "      <th>1</th>\n",
       "      <td>Albania</td>\n",
       "      <td>59.1</td>\n",
       "      <td>59.1</td>\n",
       "      <td>59.1</td>\n",
       "      <td>58.9</td>\n",
       "      <td>58.6</td>\n",
       "      <td>58.1</td>\n",
       "      <td>56.7</td>\n",
       "      <td>56.7</td>\n",
       "      <td>56.7</td>\n",
       "      <td>59.1</td>\n",
       "      <td>59.1</td>\n",
       "      <td>59.8</td>\n",
       "      <td>59.8</td>\n",
       "    </tr>\n",
       "    <tr>\n",
       "      <th>2</th>\n",
       "      <td>Algeria</td>\n",
       "      <td>31.7</td>\n",
       "      <td>32.5</td>\n",
       "      <td>33.2</td>\n",
       "      <td>33.8</td>\n",
       "      <td>34.4</td>\n",
       "      <td>34.4</td>\n",
       "      <td>38.3</td>\n",
       "      <td>38.3</td>\n",
       "      <td>38.3</td>\n",
       "      <td>39.5</td>\n",
       "      <td>35.6</td>\n",
       "      <td>35.6</td>\n",
       "      <td>35.0</td>\n",
       "    </tr>\n",
       "    <tr>\n",
       "      <th>3</th>\n",
       "      <td>Angola</td>\n",
       "      <td>24.1</td>\n",
       "      <td>28.8</td>\n",
       "      <td>33.5</td>\n",
       "      <td>33.4</td>\n",
       "      <td>33.2</td>\n",
       "      <td>33.2</td>\n",
       "      <td>33.5</td>\n",
       "      <td>33.5</td>\n",
       "      <td>33.5</td>\n",
       "      <td>33.5</td>\n",
       "      <td>34.0</td>\n",
       "      <td>36.2</td>\n",
       "      <td>36.2</td>\n",
       "    </tr>\n",
       "    <tr>\n",
       "      <th>4</th>\n",
       "      <td>Argentina</td>\n",
       "      <td>66.3</td>\n",
       "      <td>66.3</td>\n",
       "      <td>66.3</td>\n",
       "      <td>67.3</td>\n",
       "      <td>68.4</td>\n",
       "      <td>68.4</td>\n",
       "      <td>68.4</td>\n",
       "      <td>68.4</td>\n",
       "      <td>68.4</td>\n",
       "      <td>70.2</td>\n",
       "      <td>69.6</td>\n",
       "      <td>69.6</td>\n",
       "      <td>70.2</td>\n",
       "    </tr>\n",
       "  </tbody>\n",
       "</table>\n",
       "</div>"
      ],
      "text/plain": [
       "       country  2006  2007  2008  2009  2010  2011  2012  2013  2014  2015  \\\n",
       "0  Afghanistan  30.6  30.4  30.2  27.5  24.8  24.8  24.8  24.8  27.7  27.7   \n",
       "1      Albania  59.1  59.1  59.1  58.9  58.6  58.1  56.7  56.7  56.7  59.1   \n",
       "2      Algeria  31.7  32.5  33.2  33.8  34.4  34.4  38.3  38.3  38.3  39.5   \n",
       "3       Angola  24.1  28.8  33.5  33.4  33.2  33.2  33.5  33.5  33.5  33.5   \n",
       "4    Argentina  66.3  66.3  66.3  67.3  68.4  68.4  68.4  68.4  68.4  70.2   \n",
       "\n",
       "   2016  2017  2018  \n",
       "0  25.5  25.5  29.7  \n",
       "1  59.1  59.8  59.8  \n",
       "2  35.6  35.6  35.0  \n",
       "3  34.0  36.2  36.2  \n",
       "4  69.6  69.6  70.2  "
      ]
     },
     "metadata": {},
     "output_type": "display_data"
    },
    {
     "name": "stdout",
     "output_type": "stream",
     "text": [
      "Rows with missing data: 0\n"
     ]
    }
   ],
   "source": [
    "display(democracy_df['2017'].describe())\n",
    "display(democracy_df.head())\n",
    "print('Rows with missing data:', democracy_df['2017'].isna().sum())"
   ]
  },
  {
   "cell_type": "markdown",
   "metadata": {},
   "source": [
    "Here we can see that the democracy data does indeed have data for 2017, however only has 164 unique countries present that year. Furthermore, all 164 rows has data, there are none with missing data."
   ]
  },
  {
   "cell_type": "markdown",
   "metadata": {},
   "source": [
    "#### Freedom of Expression Data"
   ]
  },
  {
   "cell_type": "code",
   "execution_count": 51,
   "metadata": {},
   "outputs": [
    {
     "data": {
      "text/plain": [
       "count    155.000000\n",
       "mean      60.225806\n",
       "std       20.713428\n",
       "min        4.000000\n",
       "25%       46.000000\n",
       "50%       64.000000\n",
       "75%       76.500000\n",
       "max       92.000000\n",
       "Name: 2017, dtype: float64"
      ]
     },
     "metadata": {},
     "output_type": "display_data"
    },
    {
     "data": {
      "text/html": [
       "<div>\n",
       "<style scoped>\n",
       "    .dataframe tbody tr th:only-of-type {\n",
       "        vertical-align: middle;\n",
       "    }\n",
       "\n",
       "    .dataframe tbody tr th {\n",
       "        vertical-align: top;\n",
       "    }\n",
       "\n",
       "    .dataframe thead th {\n",
       "        text-align: right;\n",
       "    }\n",
       "</style>\n",
       "<table border=\"1\" class=\"dataframe\">\n",
       "  <thead>\n",
       "    <tr style=\"text-align: right;\">\n",
       "      <th></th>\n",
       "      <th>country</th>\n",
       "      <th>1975</th>\n",
       "      <th>1976</th>\n",
       "      <th>1977</th>\n",
       "      <th>1978</th>\n",
       "      <th>1979</th>\n",
       "      <th>1980</th>\n",
       "      <th>1981</th>\n",
       "      <th>1982</th>\n",
       "      <th>1983</th>\n",
       "      <th>...</th>\n",
       "      <th>2009</th>\n",
       "      <th>2010</th>\n",
       "      <th>2011</th>\n",
       "      <th>2012</th>\n",
       "      <th>2013</th>\n",
       "      <th>2014</th>\n",
       "      <th>2015</th>\n",
       "      <th>2016</th>\n",
       "      <th>2017</th>\n",
       "      <th>2018</th>\n",
       "    </tr>\n",
       "  </thead>\n",
       "  <tbody>\n",
       "    <tr>\n",
       "      <th>0</th>\n",
       "      <td>Afghanistan</td>\n",
       "      <td>35.0</td>\n",
       "      <td>35.0</td>\n",
       "      <td>35.0</td>\n",
       "      <td>23.0</td>\n",
       "      <td>20.0</td>\n",
       "      <td>20.0</td>\n",
       "      <td>22.0</td>\n",
       "      <td>22.0</td>\n",
       "      <td>22.0</td>\n",
       "      <td>...</td>\n",
       "      <td>53.0</td>\n",
       "      <td>52.0</td>\n",
       "      <td>52</td>\n",
       "      <td>51</td>\n",
       "      <td>52</td>\n",
       "      <td>52</td>\n",
       "      <td>52</td>\n",
       "      <td>50</td>\n",
       "      <td>51</td>\n",
       "      <td>55</td>\n",
       "    </tr>\n",
       "    <tr>\n",
       "      <th>1</th>\n",
       "      <td>Albania</td>\n",
       "      <td>9.0</td>\n",
       "      <td>9.0</td>\n",
       "      <td>9.0</td>\n",
       "      <td>9.0</td>\n",
       "      <td>9.0</td>\n",
       "      <td>9.0</td>\n",
       "      <td>9.0</td>\n",
       "      <td>9.0</td>\n",
       "      <td>9.0</td>\n",
       "      <td>...</td>\n",
       "      <td>71.0</td>\n",
       "      <td>71.0</td>\n",
       "      <td>71</td>\n",
       "      <td>71</td>\n",
       "      <td>64</td>\n",
       "      <td>65</td>\n",
       "      <td>65</td>\n",
       "      <td>65</td>\n",
       "      <td>69</td>\n",
       "      <td>62</td>\n",
       "    </tr>\n",
       "    <tr>\n",
       "      <th>2</th>\n",
       "      <td>Algeria</td>\n",
       "      <td>34.0</td>\n",
       "      <td>34.0</td>\n",
       "      <td>34.0</td>\n",
       "      <td>34.0</td>\n",
       "      <td>34.0</td>\n",
       "      <td>36.0</td>\n",
       "      <td>36.0</td>\n",
       "      <td>36.0</td>\n",
       "      <td>36.0</td>\n",
       "      <td>...</td>\n",
       "      <td>58.0</td>\n",
       "      <td>57.0</td>\n",
       "      <td>57</td>\n",
       "      <td>52</td>\n",
       "      <td>57</td>\n",
       "      <td>56</td>\n",
       "      <td>56</td>\n",
       "      <td>53</td>\n",
       "      <td>55</td>\n",
       "      <td>56</td>\n",
       "    </tr>\n",
       "    <tr>\n",
       "      <th>3</th>\n",
       "      <td>Angola</td>\n",
       "      <td>19.0</td>\n",
       "      <td>19.0</td>\n",
       "      <td>19.0</td>\n",
       "      <td>19.0</td>\n",
       "      <td>19.0</td>\n",
       "      <td>19.0</td>\n",
       "      <td>19.0</td>\n",
       "      <td>19.0</td>\n",
       "      <td>20.0</td>\n",
       "      <td>...</td>\n",
       "      <td>46.0</td>\n",
       "      <td>46.0</td>\n",
       "      <td>46</td>\n",
       "      <td>46</td>\n",
       "      <td>47</td>\n",
       "      <td>47</td>\n",
       "      <td>47</td>\n",
       "      <td>47</td>\n",
       "      <td>51</td>\n",
       "      <td>53</td>\n",
       "    </tr>\n",
       "    <tr>\n",
       "      <th>4</th>\n",
       "      <td>Argentina</td>\n",
       "      <td>52.0</td>\n",
       "      <td>24.0</td>\n",
       "      <td>14.0</td>\n",
       "      <td>14.0</td>\n",
       "      <td>14.0</td>\n",
       "      <td>14.0</td>\n",
       "      <td>14.0</td>\n",
       "      <td>17.0</td>\n",
       "      <td>33.0</td>\n",
       "      <td>...</td>\n",
       "      <td>78.0</td>\n",
       "      <td>77.0</td>\n",
       "      <td>77</td>\n",
       "      <td>77</td>\n",
       "      <td>78</td>\n",
       "      <td>78</td>\n",
       "      <td>76</td>\n",
       "      <td>83</td>\n",
       "      <td>82</td>\n",
       "      <td>82</td>\n",
       "    </tr>\n",
       "  </tbody>\n",
       "</table>\n",
       "<p>5 rows × 45 columns</p>\n",
       "</div>"
      ],
      "text/plain": [
       "       country  1975  1976  1977  1978  1979  1980  1981  1982  1983  ...  \\\n",
       "0  Afghanistan  35.0  35.0  35.0  23.0  20.0  20.0  22.0  22.0  22.0  ...   \n",
       "1      Albania   9.0   9.0   9.0   9.0   9.0   9.0   9.0   9.0   9.0  ...   \n",
       "2      Algeria  34.0  34.0  34.0  34.0  34.0  36.0  36.0  36.0  36.0  ...   \n",
       "3       Angola  19.0  19.0  19.0  19.0  19.0  19.0  19.0  19.0  20.0  ...   \n",
       "4    Argentina  52.0  24.0  14.0  14.0  14.0  14.0  14.0  17.0  33.0  ...   \n",
       "\n",
       "   2009  2010  2011  2012  2013  2014  2015  2016  2017  2018  \n",
       "0  53.0  52.0    52    51    52    52    52    50    51    55  \n",
       "1  71.0  71.0    71    71    64    65    65    65    69    62  \n",
       "2  58.0  57.0    57    52    57    56    56    53    55    56  \n",
       "3  46.0  46.0    46    46    47    47    47    47    51    53  \n",
       "4  78.0  77.0    77    77    78    78    76    83    82    82  \n",
       "\n",
       "[5 rows x 45 columns]"
      ]
     },
     "metadata": {},
     "output_type": "display_data"
    },
    {
     "name": "stdout",
     "output_type": "stream",
     "text": [
      "Rows with missing data: 0\n"
     ]
    }
   ],
   "source": [
    "display(freedom_df['2017'].describe())\n",
    "display(freedom_df.head())\n",
    "print('Rows with missing data:', freedom_df['2017'].isna().sum())"
   ]
  },
  {
   "cell_type": "markdown",
   "metadata": {},
   "source": [
    "Finally, this shows us that the freedom data only includes 155 countries for the year of 2017, no rows of which have missing data."
   ]
  },
  {
   "cell_type": "markdown",
   "metadata": {},
   "source": [
    "### Data Cleaning\n",
    "\n",
    "As I decided previously, I will only be working with data from 2017. I have now confirmed that all datasets have data for this year.\n",
    "\n",
    "In order to clean the data, I need to:\n",
    "- Discard the unused years in all datasets, keeping only the 2017 columns\n",
    "- Discard all rows in all datasets with missing values\n",
    "- Rename the 2017 columns to include the name of the data they reference (in order to distinguish once combined)\n",
    "- Combine all data into one dataset using an inner merge on the `country` column"
   ]
  },
  {
   "cell_type": "markdown",
   "metadata": {},
   "source": [
    "#### Discard Unused Columns"
   ]
  },
  {
   "cell_type": "code",
   "execution_count": 24,
   "metadata": {},
   "outputs": [],
   "source": [
    "# Columns to keep\n",
    "columns = ['country', '2017']\n",
    "\n",
    "internet_df = internet_df.filter(columns)\n",
    "corruption_df = corruption_df.filter(columns)\n",
    "democracy_df = democracy_df.filter(columns)\n",
    "freedom_df = freedom_df.filter(columns)"
   ]
  },
  {
   "cell_type": "markdown",
   "metadata": {},
   "source": [
    "#### Discard Rows with Missing Values"
   ]
  },
  {
   "cell_type": "code",
   "execution_count": 25,
   "metadata": {},
   "outputs": [],
   "source": [
    "# Drop all rows with missing values\n",
    "internet_df.dropna(inplace=True)\n",
    "corruption_df.dropna(inplace=True)\n",
    "democracy_df.dropna(inplace=True)\n",
    "freedom_df.dropna(inplace=True)"
   ]
  },
  {
   "cell_type": "markdown",
   "metadata": {},
   "source": [
    "#### Rename Columns"
   ]
  },
  {
   "cell_type": "code",
   "execution_count": 26,
   "metadata": {},
   "outputs": [],
   "source": [
    "internet_df.rename(columns={'2017': 'internet_usage'}, inplace=True)\n",
    "corruption_df.rename(columns={'2017': 'corruption'}, inplace=True)\n",
    "democracy_df.rename(columns={'2017': 'democracy'}, inplace=True)\n",
    "freedom_df.rename(columns={'2017': 'freedom'}, inplace=True)"
   ]
  },
  {
   "cell_type": "markdown",
   "metadata": {},
   "source": [
    "#### Combine Datasets"
   ]
  },
  {
   "cell_type": "code",
   "execution_count": 27,
   "metadata": {},
   "outputs": [
    {
     "data": {
      "text/html": [
       "<div>\n",
       "<style scoped>\n",
       "    .dataframe tbody tr th:only-of-type {\n",
       "        vertical-align: middle;\n",
       "    }\n",
       "\n",
       "    .dataframe tbody tr th {\n",
       "        vertical-align: top;\n",
       "    }\n",
       "\n",
       "    .dataframe thead th {\n",
       "        text-align: right;\n",
       "    }\n",
       "</style>\n",
       "<table border=\"1\" class=\"dataframe\">\n",
       "  <thead>\n",
       "    <tr style=\"text-align: right;\">\n",
       "      <th></th>\n",
       "      <th>country</th>\n",
       "      <th>internet_usage</th>\n",
       "      <th>corruption</th>\n",
       "      <th>democracy</th>\n",
       "      <th>freedom</th>\n",
       "    </tr>\n",
       "  </thead>\n",
       "  <tbody>\n",
       "    <tr>\n",
       "      <th>0</th>\n",
       "      <td>Afghanistan</td>\n",
       "      <td>13.5</td>\n",
       "      <td>15</td>\n",
       "      <td>25.5</td>\n",
       "      <td>51</td>\n",
       "    </tr>\n",
       "    <tr>\n",
       "      <th>1</th>\n",
       "      <td>Albania</td>\n",
       "      <td>71.8</td>\n",
       "      <td>38</td>\n",
       "      <td>59.8</td>\n",
       "      <td>69</td>\n",
       "    </tr>\n",
       "    <tr>\n",
       "      <th>2</th>\n",
       "      <td>Algeria</td>\n",
       "      <td>47.7</td>\n",
       "      <td>33</td>\n",
       "      <td>35.6</td>\n",
       "      <td>55</td>\n",
       "    </tr>\n",
       "    <tr>\n",
       "      <th>3</th>\n",
       "      <td>Angola</td>\n",
       "      <td>14.3</td>\n",
       "      <td>19</td>\n",
       "      <td>36.2</td>\n",
       "      <td>51</td>\n",
       "    </tr>\n",
       "    <tr>\n",
       "      <th>4</th>\n",
       "      <td>Argentina</td>\n",
       "      <td>74.3</td>\n",
       "      <td>39</td>\n",
       "      <td>69.6</td>\n",
       "      <td>82</td>\n",
       "    </tr>\n",
       "  </tbody>\n",
       "</table>\n",
       "</div>"
      ],
      "text/plain": [
       "       country  internet_usage  corruption  democracy  freedom\n",
       "0  Afghanistan            13.5          15       25.5       51\n",
       "1      Albania            71.8          38       59.8       69\n",
       "2      Algeria            47.7          33       35.6       55\n",
       "3       Angola            14.3          19       36.2       51\n",
       "4    Argentina            74.3          39       69.6       82"
      ]
     },
     "execution_count": 27,
     "metadata": {},
     "output_type": "execute_result"
    }
   ],
   "source": [
    "# Inner merge two dataframes on the \"country\" column\n",
    "def merge(left, right):\n",
    "    return pd.merge(left, right, on='country', how='inner')\n",
    "\n",
    "dataframes = [internet_df, corruption_df, democracy_df, freedom_df]\n",
    "combined_df = reduce(merge, dataframes)\n",
    "\n",
    "combined_df.head()"
   ]
  },
  {
   "cell_type": "code",
   "execution_count": 28,
   "metadata": {},
   "outputs": [
    {
     "data": {
      "text/plain": [
       "151"
      ]
     },
     "execution_count": 28,
     "metadata": {},
     "output_type": "execute_result"
    }
   ],
   "source": [
    "combined_df['country'].nunique()"
   ]
  },
  {
   "cell_type": "markdown",
   "metadata": {},
   "source": [
    "The data is now free of all missing values, and combined into one dataframe, with separate columns for the internet usage rate, level of corruption, democracy and freedom. There are 151 countries that had data saved in all four datasets, and hence those are the rows I am left with.\n",
    "\n",
    "This data is now fully cleaned and ready for analysis."
   ]
  },
  {
   "cell_type": "markdown",
   "metadata": {},
   "source": [
    "<a id='eda'></a>\n",
    "## Exploratory Data Analysis"
   ]
  },
  {
   "cell_type": "markdown",
   "metadata": {},
   "source": [
    "### How are internet usage rates distributed, and how do they range between different countries?"
   ]
  },
  {
   "cell_type": "markdown",
   "metadata": {},
   "source": [
    "#### Graphs"
   ]
  },
  {
   "cell_type": "code",
   "execution_count": 29,
   "metadata": {},
   "outputs": [
    {
     "data": {
      "image/png": "[encoded data removed]",
      "text/plain": [
       "<Figure size 1080x360 with 2 Axes>"
      ]
     },
     "metadata": {
      "needs_background": "light"
     },
     "output_type": "display_data"
    }
   ],
   "source": [
    "fig, axs = plt.subplots(1,2, figsize=(15, 5))\n",
    "\n",
    "# Create box plot\n",
    "boxplot = combined_df['internet_usage'].plot.box(title='Internet Usage Rates Distribution', ax=axs[0])\n",
    "boxplot.set_xticklabels(['Global'])\n",
    "boxplot.set_ylabel('Internet Usage Rate (as % of Population)')\n",
    "\n",
    "# Create histogram\n",
    "histogram = combined_df['internet_usage'].plot.hist(bins=20, title='Internet Usage Rates Distribution', ax=axs[1])\n",
    "histogram.set_xlabel('Internet Usage Rate (as % of Population)');"
   ]
  },
  {
   "cell_type": "markdown",
   "metadata": {},
   "source": [
    "#### Analysis"
   ]
  },
  {
   "cell_type": "markdown",
   "metadata": {},
   "source": [
    "Looking at the distribution of internet usage rates, the median value lies just under 60%, however there is a very large range spanning from almost 0% to almost 100% of different countries' populations having usage of the internet. Additionally, there is a large interquartile range, indicating a significant spread of internet usage rates between different countries.\n",
    "\n",
    "The histogram shows us that there are many countries with rates under 35%, and many more with rates above 60%, however it appears there are relatively few around the 40-50% mark."
   ]
  },
  {
   "cell_type": "markdown",
   "metadata": {},
   "source": [
    "### Is there a correlation between the level of corruption, democracy or freedom of a country, and the number of individuals using the internet?"
   ]
  },
  {
   "cell_type": "markdown",
   "metadata": {
    "scrolled": false
   },
   "source": [
    "#### Scatter Graphs"
   ]
  },
  {
   "cell_type": "code",
   "execution_count": 30,
   "metadata": {},
   "outputs": [
    {
     "data": {
      "image/png": "[encoded data removed]",
      "text/plain": [
       "<Figure size 1080x360 with 3 Axes>"
      ]
     },
     "metadata": {
      "needs_background": "light"
     },
     "output_type": "display_data"
    }
   ],
   "source": [
    "fig, axs = plt.subplots(1, 3, figsize=(15, 5))\n",
    "\n",
    "# Draw plots\n",
    "sns.scatterplot(combined_df['corruption'], combined_df['internet_usage'], ax=axs[0])\n",
    "sns.scatterplot(combined_df['democracy'], combined_df['internet_usage'], ax=axs[1])\n",
    "sns.scatterplot(combined_df['freedom'], combined_df['internet_usage'], ax=axs[2]);\n",
    "\n",
    "# Add labels\n",
    "axs[0].set_xlabel('Corruption Index (Higher = Less Corruption)')\n",
    "axs[1].set_xlabel('Democracy Index (Higher = Better Democracy)')\n",
    "axs[2].set_xlabel('Freedom Index (Higher = More Freedom)')\n",
    "axs = list(map(lambda x: x.set_ylabel('Internet Usage Rate (as % of Population)'), axs))"
   ]
  },
  {
   "cell_type": "markdown",
   "metadata": {},
   "source": [
    "#### Estimated Regression Models"
   ]
  },
  {
   "cell_type": "code",
   "execution_count": 31,
   "metadata": {},
   "outputs": [
    {
     "data": {
      "image/png": "[encoded data removed]",
      "text/plain": [
       "<Figure size 1080x360 with 2 Axes>"
      ]
     },
     "metadata": {
      "needs_background": "light"
     },
     "output_type": "display_data"
    }
   ],
   "source": [
    "fig, axs = plt.subplots(1, 2, figsize=(15, 5))\n",
    "\n",
    "# Draw plots\n",
    "a = sns.regplot(combined_df['corruption'], combined_df['internet_usage'], ax=axs[0], scatter_kws={'s': 10}, logx=True)\n",
    "b = sns.regplot(combined_df['democracy'], combined_df['internet_usage'], ax=axs[1], scatter_kws={'s': 10});\n",
    "\n",
    "# Add labels\n",
    "a.set_xlabel('Corruption Index (Higher = Less Corruption)')\n",
    "b.set_xlabel('Democracy Index (Higher = Better Democracy)')\n",
    "a.set_ylabel('Internet Usage Rate (as % of Population)')\n",
    "b.set_ylabel('Internet Usage Rate (as % of Population)');"
   ]
  },
  {
   "cell_type": "markdown",
   "metadata": {},
   "source": [
    "#### Analysis"
   ]
  },
  {
   "cell_type": "markdown",
   "metadata": {},
   "source": [
    "The first graph shows a clear positive correlation between the corruption index of a country and the proportion of the population using the internet. As the corruption index increases (level of corruption gets lower), the internet usage increases. Notably, all countries with a corruption score of over 70 have very high internet usage rates. On inspection, it looks like this relationship follows a logarithmic curve (as plotted by the first graph on the next row).\n",
    "\n",
    "The next graph displays a weaker, but still positive, correlation between the democracy index and internet usage. More democratic countries tend to have a higher percentage of the population using the internet, while less democratic countries have lower internet usage rates.\n",
    "\n",
    "Finally, the last graph shows a very weak positive correlation between freedom and internet usage. I appears as though countries with higher levels of freedom have slightly higher internet usage rates, however this correlation is significantly weaker than the previous two."
   ]
  },
  {
   "cell_type": "markdown",
   "metadata": {},
   "source": [
    "<a id='conclusions'></a>\n",
    "## Conclusions"
   ]
  },
  {
   "cell_type": "markdown",
   "metadata": {},
   "source": [
    "From my analysis, I have found that the distribution of internet usage rates does not follow a traditional bell curve, but rather has high frequencies of countries below 35% and above 60%, with relatively few countries around the 40-50% mark. I also found that the range was very large indeed, indicating a wide discrepancy between countries, and that the median internet usage rate is just under 60%.\n",
    "\n",
    "Furthermore, I can conclude that their appears to a positive correlation between the corruption index of a country and the percentage of the population that use the internet. Additionally, there is a weaker positive correlation between the level of democracy and internet usage, and a very weak positive correlation between freedom and internet usage.\n",
    "\n",
    "These results however are based on a small sample size (n=155), which means they are not the most accurate. It is almost impossible to increase the same size, as the sample includes the majority of the countries on the planet, which is a significant limitation to gaining more accurate results.\n",
    "\n",
    "Finally, the correlation between lower corrupt and higher levels of internet usage does not necessarily mean to suggest that corruption causes lower levels of internet usage. The same applies for the level of democracy; a lower level of democracy does not mean a reduced proportion of the population accessing the internet."
   ]
  }
 ],
 "metadata": {
  "kernelspec": {
   "display_name": "Python 3",
   "language": "python",
   "name": "python3"
  },
  "language_info": {
   "codemirror_mode": {
    "name": "ipython",
    "version": 3
   },
   "file_extension": ".py",
   "mimetype": "text/x-python",
   "name": "python",
   "nbconvert_exporter": "python",
   "pygments_lexer": "ipython3",
   "version": "3.8.2"
  }
 },
 "nbformat": 4,
 "nbformat_minor": 2
}
